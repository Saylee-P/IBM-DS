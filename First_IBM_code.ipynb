{
  "cells": [
    {
      "cell_type": "markdown",
      "source": [
        "# My Jupyter Notebook on IBM Watson Studio"
      ],
      "metadata": {
        "id": "azuaquQrrBcV"
      }
    },
    {
      "cell_type": "markdown",
      "source": [
        "**Saylee**\n",
        "System Engineer"
      ],
      "metadata": {
        "id": "QqtXUxlOrRg2"
      }
    },
    {
      "cell_type": "markdown",
      "source": [
        "*I am interested in data science*"
      ],
      "metadata": {
        "id": "6v3OxprLrmK0"
      }
    },
    {
      "cell_type": "markdown",
      "source": [
        "# My code is doing addition"
      ],
      "metadata": {
        "id": "_NVsCHa-r7PL"
      }
    },
    {
      "cell_type": "code",
      "execution_count": 1,
      "metadata": {
        "colab": {
          "base_uri": "https://localhost:8080/"
        },
        "id": "sHrRX5LBq3bH",
        "outputId": "fad815f6-9331-448e-e40b-dc502308d1d6"
      },
      "outputs": [
        {
          "output_type": "stream",
          "name": "stdout",
          "text": [
            "2\n"
          ]
        }
      ],
      "source": [
        "print(1+1)"
      ]
    },
    {
      "cell_type": "markdown",
      "source": [
        "* Hi hello  \n",
        "\n",
        "---\n",
        "\n",
        "\n",
        "*   List item\n",
        "*   List item\n",
        "\n",
        "\n"
      ],
      "metadata": {
        "id": "48V-thsfsSRS"
      }
    }
  ],
  "metadata": {
    "kernelspec": {
      "display_name": "Python 3",
      "language": "python",
      "name": "python3"
    },
    "language_info": {
      "codemirror_mode": {
        "name": "ipython",
        "version": 3
      },
      "file_extension": ".py",
      "mimetype": "text/x-python",
      "name": "python",
      "nbconvert_exporter": "python",
      "pygments_lexer": "ipython3",
      "version": "3.7.4"
    },
    "colab": {
      "provenance": []
    }
  },
  "nbformat": 4,
  "nbformat_minor": 0
}